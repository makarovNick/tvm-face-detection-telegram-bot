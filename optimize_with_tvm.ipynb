{
  "cells": [
    {
      "cell_type": "markdown",
      "id": "61017cc1",
      "metadata": {
        "id": "61017cc1"
      },
      "source": [
        "### Prerequisites\n",
        "\n",
        "Installing `tflite` as we are converting TFLite model."
      ]
    },
    {
      "cell_type": "code",
      "execution_count": null,
      "id": "acea4fd8",
      "metadata": {
        "id": "acea4fd8",
        "colab": {
          "base_uri": "https://localhost:8080/"
        },
        "outputId": "7b356043-2659-4823-a6ae-e97ead3d8b5e"
      },
      "outputs": [
        {
          "output_type": "stream",
          "name": "stdout",
          "text": [
            "Collecting tflite\n",
            "  Downloading tflite-2.10.0-py2.py3-none-any.whl.metadata (5.6 kB)\n",
            "Collecting apache-tvm\n",
            "  Downloading apache_tvm-0.11.1-cp310-cp310-manylinux_2_17_x86_64.manylinux2014_x86_64.whl.metadata (8.3 kB)\n",
            "Requirement already satisfied: opencv-python in /usr/local/lib/python3.10/dist-packages (4.10.0.84)\n",
            "Requirement already satisfied: flatbuffers in /usr/local/lib/python3.10/dist-packages (from tflite) (24.3.25)\n",
            "Requirement already satisfied: numpy in /usr/local/lib/python3.10/dist-packages (from tflite) (1.26.4)\n",
            "Requirement already satisfied: attrs in /usr/local/lib/python3.10/dist-packages (from apache-tvm) (24.2.0)\n",
            "Requirement already satisfied: cloudpickle in /usr/local/lib/python3.10/dist-packages (from apache-tvm) (3.1.0)\n",
            "Requirement already satisfied: decorator in /usr/local/lib/python3.10/dist-packages (from apache-tvm) (4.4.2)\n",
            "Requirement already satisfied: psutil in /usr/local/lib/python3.10/dist-packages (from apache-tvm) (5.9.5)\n",
            "Requirement already satisfied: scipy in /usr/local/lib/python3.10/dist-packages (from apache-tvm) (1.13.1)\n",
            "Collecting synr==0.6.0 (from apache-tvm)\n",
            "  Downloading synr-0.6.0-py3-none-any.whl.metadata (1.2 kB)\n",
            "Requirement already satisfied: tornado in /usr/local/lib/python3.10/dist-packages (from apache-tvm) (6.3.3)\n",
            "Requirement already satisfied: typing-extensions in /usr/local/lib/python3.10/dist-packages (from apache-tvm) (4.12.2)\n",
            "Downloading tflite-2.10.0-py2.py3-none-any.whl (123 kB)\n",
            "\u001b[2K   \u001b[90m━━━━━━━━━━━━━━━━━━━━━━━━━━━━━━━━━━━━━━━━\u001b[0m \u001b[32m123.6/123.6 kB\u001b[0m \u001b[31m5.4 MB/s\u001b[0m eta \u001b[36m0:00:00\u001b[0m\n",
            "\u001b[?25hDownloading apache_tvm-0.11.1-cp310-cp310-manylinux_2_17_x86_64.manylinux2014_x86_64.whl (47.2 MB)\n",
            "\u001b[2K   \u001b[90m━━━━━━━━━━━━━━━━━━━━━━━━━━━━━━━━━━━━━━━━\u001b[0m \u001b[32m47.2/47.2 MB\u001b[0m \u001b[31m12.4 MB/s\u001b[0m eta \u001b[36m0:00:00\u001b[0m\n",
            "\u001b[?25hDownloading synr-0.6.0-py3-none-any.whl (18 kB)\n",
            "Installing collected packages: tflite, synr, apache-tvm\n",
            "Successfully installed apache-tvm-0.11.1 synr-0.6.0 tflite-2.10.0\n"
          ]
        }
      ],
      "source": [
        "!pip install tflite apache-tvm opencv-python"
      ]
    },
    {
      "cell_type": "code",
      "execution_count": null,
      "id": "c9ec3223",
      "metadata": {
        "id": "c9ec3223"
      },
      "outputs": [],
      "source": [
        "import cv2\n",
        "import numpy as np\n",
        "import tvm\n",
        "import tflite\n",
        "from tvm import relay\n",
        "from tvm.contrib import graph_executor\n",
        "import matplotlib.pyplot as plt\n",
        "from tvm.driver import tvmc\n",
        "from tvm import autotvm\n",
        "from tvm.autotvm.tuner import XGBTuner, GATuner, RandomTuner, GridSearchTuner"
      ]
    },
    {
      "cell_type": "code",
      "execution_count": null,
      "id": "77f24016",
      "metadata": {
        "id": "77f24016"
      },
      "outputs": [],
      "source": [
        "target = \"llvm -mtriple=x86_64-linux-gnu\""
      ]
    },
    {
      "cell_type": "markdown",
      "id": "30449154",
      "metadata": {
        "id": "30449154"
      },
      "source": [
        "### Convert TF Lite model to TVM model and fix layout for tuning"
      ]
    },
    {
      "cell_type": "code",
      "execution_count": null,
      "id": "20fe04aa",
      "metadata": {
        "id": "20fe04aa"
      },
      "outputs": [],
      "source": [
        "tflite_model_buf = open('face_detection_front.tflite', \"rb\").read()\n",
        "tflite_model = tvm.relay.frontend.from_tflite(\n",
        "    tflite.Model.GetRootAsModel(tflite_model_buf, 0),\n",
        "    shape_dict={\"input\": (1, 128, 128, 3)},\n",
        "    dtype_dict={\"input\": \"float32\"}\n",
        ")\n",
        "mod, params = tflite_model\n"
      ]
    },
    {
      "cell_type": "code",
      "source": [
        "target = \"llvm\"\n",
        "with tvm.transform.PassContext(opt_level=3):\n",
        "    lib = relay.build(mod, target, params=params)"
      ],
      "metadata": {
        "colab": {
          "base_uri": "https://localhost:8080/"
        },
        "collapsed": true,
        "id": "5NazqrtVTuFN",
        "outputId": "bf3b9888-5fe7-412e-bf80-6477750126d8"
      },
      "id": "5NazqrtVTuFN",
      "execution_count": null,
      "outputs": [
        {
          "output_type": "stream",
          "name": "stderr",
          "text": [
            "WARNING:strategy:conv2d NHWC layout is not optimized for x86 with autotvm.\n",
            "WARNING:strategy:depthwise_conv2d NHWC layout is not optimized for x86 with autotvm.\n",
            "WARNING:strategy:conv2d NHWC layout is not optimized for x86 with autotvm.\n",
            "WARNING:strategy:depthwise_conv2d NHWC layout is not optimized for x86 with autotvm.\n",
            "WARNING:strategy:conv2d NHWC layout is not optimized for x86 with autotvm.\n",
            "WARNING:strategy:depthwise_conv2d NHWC layout is not optimized for x86 with autotvm.\n",
            "WARNING:strategy:conv2d NHWC layout is not optimized for x86 with autotvm.\n",
            "WARNING:strategy:depthwise_conv2d NHWC layout is not optimized for x86 with autotvm.\n",
            "WARNING:strategy:conv2d NHWC layout is not optimized for x86 with autotvm.\n",
            "WARNING:strategy:depthwise_conv2d NHWC layout is not optimized for x86 with autotvm.\n",
            "WARNING:strategy:conv2d NHWC layout is not optimized for x86 with autotvm.\n",
            "WARNING:strategy:depthwise_conv2d NHWC layout is not optimized for x86 with autotvm.\n",
            "WARNING:strategy:conv2d NHWC layout is not optimized for x86 with autotvm.\n",
            "WARNING:strategy:depthwise_conv2d NHWC layout is not optimized for x86 with autotvm.\n",
            "WARNING:strategy:conv2d NHWC layout is not optimized for x86 with autotvm.\n",
            "WARNING:strategy:depthwise_conv2d NHWC layout is not optimized for x86 with autotvm.\n",
            "WARNING:strategy:conv2d NHWC layout is not optimized for x86 with autotvm.\n",
            "WARNING:strategy:depthwise_conv2d NHWC layout is not optimized for x86 with autotvm.\n",
            "WARNING:strategy:conv2d NHWC layout is not optimized for x86 with autotvm.\n",
            "WARNING:strategy:depthwise_conv2d NHWC layout is not optimized for x86 with autotvm.\n",
            "WARNING:strategy:conv2d NHWC layout is not optimized for x86 with autotvm.\n",
            "WARNING:strategy:depthwise_conv2d NHWC layout is not optimized for x86 with autotvm.\n",
            "WARNING:strategy:conv2d NHWC layout is not optimized for x86 with autotvm.\n",
            "WARNING:strategy:conv2d NHWC layout is not optimized for x86 with autotvm.\n",
            "WARNING:strategy:depthwise_conv2d NHWC layout is not optimized for x86 with autotvm.\n",
            "WARNING:strategy:conv2d NHWC layout is not optimized for x86 with autotvm.\n",
            "WARNING:strategy:depthwise_conv2d NHWC layout is not optimized for x86 with autotvm.\n",
            "WARNING:strategy:conv2d NHWC layout is not optimized for x86 with autotvm.\n",
            "WARNING:strategy:depthwise_conv2d NHWC layout is not optimized for x86 with autotvm.\n",
            "WARNING:strategy:conv2d NHWC layout is not optimized for x86 with autotvm.\n",
            "WARNING:strategy:depthwise_conv2d NHWC layout is not optimized for x86 with autotvm.\n",
            "WARNING:strategy:conv2d NHWC layout is not optimized for x86 with autotvm.\n",
            "WARNING:strategy:depthwise_conv2d NHWC layout is not optimized for x86 with autotvm.\n",
            "WARNING:strategy:conv2d NHWC layout is not optimized for x86 with autotvm.\n",
            "WARNING:strategy:conv2d NHWC layout is not optimized for x86 with autotvm.\n",
            "WARNING:strategy:conv2d NHWC layout is not optimized for x86 with autotvm.\n",
            "WARNING:strategy:conv2d NHWC layout is not optimized for x86 with autotvm.\n",
            "WARNING:strategy:conv2d NHWC layout is not optimized for x86 with autotvm.\n",
            "WARNING:strategy:depthwise_conv2d NHWC layout is not optimized for x86 with autotvm.\n",
            "WARNING:strategy:conv2d NHWC layout is not optimized for x86 with autotvm.\n",
            "WARNING:strategy:conv2d NHWC layout is not optimized for x86 with autotvm.\n",
            "WARNING:strategy:depthwise_conv2d NHWC layout is not optimized for x86 with autotvm.\n",
            "WARNING:strategy:conv2d NHWC layout is not optimized for x86 with autotvm.\n",
            "WARNING:strategy:depthwise_conv2d NHWC layout is not optimized for x86 with autotvm.\n",
            "WARNING:strategy:conv2d NHWC layout is not optimized for x86 with autotvm.\n",
            "WARNING:strategy:depthwise_conv2d NHWC layout is not optimized for x86 with autotvm.\n",
            "WARNING:strategy:conv2d NHWC layout is not optimized for x86 with autotvm.\n",
            "WARNING:strategy:depthwise_conv2d NHWC layout is not optimized for x86 with autotvm.\n",
            "WARNING:strategy:conv2d NHWC layout is not optimized for x86 with autotvm.\n",
            "WARNING:strategy:depthwise_conv2d NHWC layout is not optimized for x86 with autotvm.\n",
            "WARNING:strategy:conv2d NHWC layout is not optimized for x86 with autotvm.\n",
            "WARNING:strategy:depthwise_conv2d NHWC layout is not optimized for x86 with autotvm.\n",
            "WARNING:strategy:conv2d NHWC layout is not optimized for x86 with autotvm.\n",
            "WARNING:strategy:depthwise_conv2d NHWC layout is not optimized for x86 with autotvm.\n",
            "WARNING:strategy:conv2d NHWC layout is not optimized for x86 with autotvm.\n",
            "WARNING:strategy:depthwise_conv2d NHWC layout is not optimized for x86 with autotvm.\n",
            "WARNING:strategy:conv2d NHWC layout is not optimized for x86 with autotvm.\n",
            "WARNING:strategy:depthwise_conv2d NHWC layout is not optimized for x86 with autotvm.\n",
            "WARNING:strategy:conv2d NHWC layout is not optimized for x86 with autotvm.\n",
            "WARNING:strategy:conv2d NHWC layout is not optimized for x86 with autotvm.\n",
            "WARNING:strategy:depthwise_conv2d NHWC layout is not optimized for x86 with autotvm.\n",
            "WARNING:strategy:conv2d NHWC layout is not optimized for x86 with autotvm.\n",
            "WARNING:strategy:depthwise_conv2d NHWC layout is not optimized for x86 with autotvm.\n",
            "WARNING:strategy:conv2d NHWC layout is not optimized for x86 with autotvm.\n",
            "WARNING:strategy:conv2d NHWC layout is not optimized for x86 with autotvm.\n",
            "WARNING:strategy:conv2d NHWC layout is not optimized for x86 with autotvm.\n",
            "WARNING:strategy:conv2d NHWC layout is not optimized for x86 with autotvm.\n"
          ]
        }
      ]
    },
    {
      "cell_type": "code",
      "execution_count": null,
      "id": "034d8b7e",
      "metadata": {
        "id": "034d8b7e"
      },
      "outputs": [],
      "source": [
        "def load_image_for_inference(image_path: str) -> np.ndarray:\n",
        "    image = cv2.imread(image_path)\n",
        "    image = cv2.cvtColor(image, cv2.COLOR_BGR2RGB)\n",
        "    image = cv2.resize(image, (128, 128))\n",
        "    image = (image.astype(np.float32) - 128) / 128.0\n",
        "    image = np.expand_dims(image, axis=0)\n",
        "    return image\n",
        "\n",
        "image = load_image_for_inference('face.jpeg')"
      ]
    },
    {
      "cell_type": "code",
      "source": [
        "def run_inference(module, image):\n",
        "    # Set input and run the model\n",
        "    module.set_input(\"input\", tvm.nd.array(image))\n",
        "    module.run()\n",
        "\n",
        "    # Extract outputs from the model\n",
        "    bboxes_and_keypoints = module.get_output(0).numpy()  # (1, 896, 16)\n",
        "    detection_scores = module.get_output(1).numpy()     # (1, 896, 1)\n",
        "\n",
        "    return bboxes_and_keypoints, detection_scores\n"
      ],
      "metadata": {
        "id": "kA5goQoBf6yJ"
      },
      "id": "kA5goQoBf6yJ",
      "execution_count": null,
      "outputs": []
    },
    {
      "cell_type": "code",
      "source": [
        "def create_blazeface_anchors(input_w, input_h):\n",
        "    \"\"\"\n",
        "    Generate anchors following the original BlazeFace model spec.\n",
        "    \"\"\"\n",
        "    strides = [8, 16]\n",
        "    anchors_per_layer = [2, 6]\n",
        "\n",
        "    anchors = []\n",
        "    for stride, num_anchors in zip(strides, anchors_per_layer):\n",
        "        grid_cols = (input_w + stride - 1) // stride\n",
        "        grid_rows = (input_h + stride - 1) // stride\n",
        "\n",
        "        for grid_y in range(grid_rows):\n",
        "            anchor_y = stride * (grid_y + 0.5)\n",
        "            for grid_x in range(grid_cols):\n",
        "                anchor_x = stride * (grid_x + 0.5)\n",
        "                for _ in range(num_anchors):\n",
        "                    anchors.append((anchor_x, anchor_y))\n",
        "    return np.array(anchors, dtype=np.float32)\n"
      ],
      "metadata": {
        "id": "QnIXyTooh80V"
      },
      "id": "QnIXyTooh80V",
      "execution_count": null,
      "outputs": []
    },
    {
      "cell_type": "code",
      "execution_count": null,
      "id": "e1d4f777",
      "metadata": {
        "id": "e1d4f777",
        "colab": {
          "base_uri": "https://localhost:8080/"
        },
        "outputId": "c93ca6a3-f27e-4a50-f170-e03e35b03ec6"
      },
      "outputs": [
        {
          "output_type": "stream",
          "name": "stdout",
          "text": [
            "Output shape: (1, 896, 16)\n"
          ]
        }
      ],
      "source": [
        "# Create a graph executor\n",
        "module = graph_executor.GraphModule(lib[\"default\"](tvm.cpu()))\n",
        "\n",
        "# Set input and run\n",
        "module.set_input(\"input\", tvm.nd.array(image))\n",
        "module.run()\n",
        "\n",
        "# Extract model output\n",
        "tvm_output = module.get_output(0).numpy()\n",
        "print(\"Output shape:\", tvm_output.shape)"
      ]
    },
    {
      "cell_type": "code",
      "source": [
        "bboxes_and_keypoints, detection_scores = run_inference(module, image)"
      ],
      "metadata": {
        "id": "6EFMjbm_fm6d"
      },
      "id": "6EFMjbm_fm6d",
      "execution_count": null,
      "outputs": []
    },
    {
      "cell_type": "code",
      "source": [
        "def process_outputs(bboxes_and_keypoints, detection_scores, anchors, input_w, input_h, score_threshold=0.75, iou_threshold=0.3):\n",
        "    # Extract scores and apply sigmoid\n",
        "    scores = 1 / (1 + np.exp(-detection_scores[0, :, 0]))\n",
        "\n",
        "    # Filter detections by score threshold\n",
        "    valid_indices = np.where(scores >= score_threshold)[0]\n",
        "    valid_bboxes = bboxes_and_keypoints[0, valid_indices]\n",
        "    valid_scores = scores[valid_indices]\n",
        "\n",
        "    # Process bounding boxes and keypoints\n",
        "    detected_faces = []\n",
        "    for idx, bbox_keypoint in enumerate(valid_bboxes):\n",
        "        sx, sy, w, h = bbox_keypoint[:4]\n",
        "        score = valid_scores[idx]\n",
        "        anchor = anchors[valid_indices[idx]]\n",
        "\n",
        "        # Decode bounding box\n",
        "        cx = sx + anchor[0]\n",
        "        cy = sy + anchor[1]\n",
        "\n",
        "        cx /= input_w\n",
        "        cy /= input_h\n",
        "        w /= input_w\n",
        "        h /= input_h\n",
        "\n",
        "        xmin = max(0, cx - w / 2)\n",
        "        ymin = max(0, cy - h / 2)\n",
        "        xmax = min(1, cx + w / 2)\n",
        "        ymax = min(1, cy + h / 2)\n",
        "\n",
        "        # Extract keypoints\n",
        "        keypoints = []\n",
        "        for kp_idx in range(6):\n",
        "            kp_x = bbox_keypoint[4 + 2 * kp_idx]\n",
        "            kp_y = bbox_keypoint[4 + 2 * kp_idx + 1]\n",
        "\n",
        "            kp_x = (kp_x + anchor[0]) / input_w\n",
        "            kp_y = (kp_y + anchor[1]) / input_h\n",
        "\n",
        "            keypoints.append((kp_x, kp_y))\n",
        "\n",
        "        detected_faces.append({\n",
        "            \"score\": score,\n",
        "            \"bbox\": (xmin, ymin, xmax, ymax),\n",
        "            \"keypoints\": keypoints\n",
        "        })\n",
        "\n",
        "    # Apply Non-Max Suppression\n",
        "    filtered_faces = non_max_suppression(detected_faces, iou_threshold)\n",
        "    return filtered_faces\n",
        "\n",
        "def non_max_suppression(faces, iou_thresh=0.3):\n",
        "    faces = sorted(faces, key=lambda x: x[\"score\"], reverse=True)\n",
        "    selected_faces = []\n",
        "\n",
        "    def calc_iou(face0, face1):\n",
        "        xmin0, ymin0, xmax0, ymax0 = face0[\"bbox\"]\n",
        "        xmin1, ymin1, xmax1, ymax1 = face1[\"bbox\"]\n",
        "\n",
        "        intersect_xmin = max(xmin0, xmin1)\n",
        "        intersect_ymin = max(ymin0, ymin1)\n",
        "        intersect_xmax = min(xmax0, xmax1)\n",
        "        intersect_ymax = min(ymax0, ymax1)\n",
        "\n",
        "        intersect_area = max(0, intersect_xmax - intersect_xmin) * max(0, intersect_ymax - intersect_ymin)\n",
        "        area0 = (xmax0 - xmin0) * (ymax0 - ymin0)\n",
        "        area1 = (xmax1 - xmin1) * (ymax1 - ymin1)\n",
        "\n",
        "        return intersect_area / (area0 + area1 - intersect_area)\n",
        "\n",
        "    for face in faces:\n",
        "        keep = True\n",
        "        for sel_face in selected_faces:\n",
        "            if calc_iou(face, sel_face) >= iou_thresh:\n",
        "                keep = False\n",
        "                break\n",
        "        if keep:\n",
        "            selected_faces.append(face)\n",
        "    return selected_faces\n",
        "\n",
        "def visualize_detections(image, faces, input_w=128, input_h=128):\n",
        "    # Resize and prepare image for visualization\n",
        "    display_image = cv2.resize(image[0], (input_w, input_h))\n",
        "    display_image = cv2.cvtColor(display_image, cv2.COLOR_BGR2RGB)\n",
        "\n",
        "    fig, ax = plt.subplots(figsize=(10, 10))\n",
        "    ax.imshow(display_image)\n",
        "\n",
        "    for face in faces:\n",
        "        xmin, ymin, xmax, ymax = face[\"bbox\"]\n",
        "        score = face[\"score\"]\n",
        "\n",
        "        # Draw bounding box\n",
        "        rect = plt.Rectangle(\n",
        "            (xmin * input_w, ymin * input_h),\n",
        "            (xmax - xmin) * input_w,\n",
        "            (ymax - ymin) * input_h,\n",
        "            linewidth=2, edgecolor='red', facecolor='none'\n",
        "        )\n",
        "        ax.add_patch(rect)\n",
        "\n",
        "        # Draw keypoints\n",
        "        for kp_x, kp_y in face[\"keypoints\"]:\n",
        "            ax.plot(kp_x * input_w, kp_y * input_h, 'bo', markersize=6)\n",
        "\n",
        "        # Display score\n",
        "        ax.text(\n",
        "            xmin * input_w, ymin * input_h - 5, f\"Score: {score:.2f}\",\n",
        "            color=\"red\", fontsize=12, weight='bold'\n",
        "        )\n",
        "\n",
        "    ax.axis(\"off\")\n",
        "    plt.show()"
      ],
      "metadata": {
        "id": "rYWFb0j6eQCJ"
      },
      "id": "rYWFb0j6eQCJ",
      "execution_count": null,
      "outputs": []
    },
    {
      "cell_type": "code",
      "execution_count": null,
      "id": "c17c1fd7",
      "metadata": {
        "colab": {
          "base_uri": "https://localhost:8080/",
          "height": 824
        },
        "id": "c17c1fd7",
        "outputId": "5cb8ca53-b9e1-4f1a-b7ee-79e6150b74a1"
      },
      "outputs": [
        {
          "output_type": "stream",
          "name": "stderr",
          "text": [
            "WARNING:matplotlib.image:Clipping input data to the valid range for imshow with RGB data ([0..1] for floats or [0..255] for integers).\n"
          ]
        },
        {
          "output_type": "display_data",
          "data": {
            "text/plain": [
              "<Figure size 1000x1000 with 1 Axes>"
            ],
            "image/png": "[encoded data removed]"
          },
          "metadata": {}
        }
      ],
      "source": [
        "# Run TVM inference\n",
        "bboxes_keypoints, detection_scores = run_inference(module, image)\n",
        "\n",
        "# Generate anchors\n",
        "input_w, input_h = 128, 128\n",
        "anchors = create_blazeface_anchors(input_w, input_h)\n",
        "\n",
        "# Process model outputs\n",
        "detected_faces = process_outputs(bboxes_keypoints, detection_scores, anchors, input_w, input_h)\n",
        "\n",
        "# Visualize the results\n",
        "visualize_detections(image, detected_faces)"
      ]
    },
    {
      "cell_type": "markdown",
      "id": "60be6307",
      "metadata": {
        "id": "60be6307"
      },
      "source": [
        "### Save TVMC model\n",
        "\n",
        "Let's save our untuned model."
      ]
    },
    {
      "cell_type": "code",
      "execution_count": null,
      "id": "d8261a7d",
      "metadata": {
        "id": "d8261a7d"
      },
      "outputs": [],
      "source": [
        "def convert_params_to_numpy(parameters: dict[str: tvm.nd.NDArray]) -> dict[str: np.ndarray]:\n",
        "    patched_parameters = {}\n",
        "\n",
        "    for k, v in parameters.items():\n",
        "        patched_parameters[k] = v.numpy()\n",
        "\n",
        "    return patched_parameters"
      ]
    },
    {
      "cell_type": "code",
      "execution_count": null,
      "id": "5b2eb3b4",
      "metadata": {
        "id": "5b2eb3b4"
      },
      "outputs": [],
      "source": [
        "def load_tvm_parameters(path: str) -> dict[str: tvm.nd.NDArray]:\n",
        "    raw_parameters = np.load(path)\n",
        "\n",
        "    patched_parameters = {}\n",
        "\n",
        "    for k, v in raw_parameters.items():\n",
        "        patched_parameters[k] = tvm.nd.array(v)\n",
        "\n",
        "    return patched_parameters"
      ]
    },
    {
      "cell_type": "code",
      "execution_count": null,
      "id": "1d693dfa",
      "metadata": {
        "id": "1d693dfa"
      },
      "outputs": [],
      "source": [
        "def add_prefix_to_parameters(parameters: dict,\n",
        "                             prefix: str) -> dict:\n",
        "    patched_parameters = {}\n",
        "\n",
        "    for k, v in parameters.items():\n",
        "        patched_parameters[f\"{prefix}{k}\"] = v\n",
        "\n",
        "    return patched_parameters"
      ]
    },
    {
      "cell_type": "code",
      "execution_count": null,
      "id": "997ea75f",
      "metadata": {
        "id": "997ea75f"
      },
      "outputs": [],
      "source": [
        "def create_tvmc_model(model,\n",
        "                      parameters,\n",
        "                      file_name):\n",
        "    with open(f\"{file_name}.txt\", \"w\") as f:\n",
        "        f.write(repr(mod_nchw))\n",
        "\n",
        "    return tvmc.load(f\"{file_name}.txt\", shape_dict={\"input\": (1, 128, 128, 3), **vparams }, model_format=\"relay\")"
      ]
    },
    {
      "cell_type": "code",
      "source": [
        "with tvm.transform.PassContext(opt_level=3):\n",
        "    mod_nchw = tvm.relay.transform.InferType()(mod)\n",
        "    mod_nchw = tvm.relay.transform.ConvertLayout({\"nn.conv2d\": [\"NCHW\", \"OIHW\"],\n",
        "                                                  \"image.resize2d\": [\"NCHW\"],\n",
        "                                                  \"nn.conv2d_transpose\": [\"NCHW\", \"OIHW\"]})(mod_nchw)"
      ],
      "metadata": {
        "id": "xtSkcJ1auXep"
      },
      "id": "xtSkcJ1auXep",
      "execution_count": null,
      "outputs": []
    },
    {
      "cell_type": "code",
      "execution_count": null,
      "id": "12de0f7f",
      "metadata": {
        "id": "12de0f7f"
      },
      "outputs": [],
      "source": [
        "vparams = add_prefix_to_parameters(params, prefix='v')"
      ]
    },
    {
      "cell_type": "code",
      "execution_count": null,
      "id": "2f50abb6",
      "metadata": {
        "id": "2f50abb6"
      },
      "outputs": [],
      "source": [
        "np.save('parameters', convert_params_to_numpy(vparams))"
      ]
    },
    {
      "cell_type": "code",
      "execution_count": null,
      "id": "8c594417",
      "metadata": {
        "id": "8c594417"
      },
      "outputs": [],
      "source": [
        "tvmc_model = create_tvmc_model(mod_nchw, vparams, file_name='face_detection')"
      ]
    },
    {
      "cell_type": "code",
      "execution_count": null,
      "id": "c4b68bd8",
      "metadata": {
        "colab": {
          "base_uri": "https://localhost:8080/"
        },
        "id": "c4b68bd8",
        "outputId": "8f73c248-8e2c-404f-b0c8-325816249a3d"
      },
      "outputs": [
        {
          "output_type": "stream",
          "name": "stderr",
          "text": [
            "WARNING:autotvm:One or more operators have not been tuned. Please tune your model for better performance. Use DEBUG logging level to see more details.\n"
          ]
        },
        {
          "output_type": "execute_result",
          "data": {
            "text/plain": [
              "<tvm.driver.tvmc.model.TVMCPackage at 0x7ed76a5634c0>"
            ]
          },
          "metadata": {},
          "execution_count": 21
        }
      ],
      "source": [
        "tvmc.compile(tvmc_model, target=target,\n",
        "             tuning_records='tvmc_compilation.log',\n",
        "             package_path=\"face_detection_base.tar\")"
      ]
    },
    {
      "cell_type": "markdown",
      "id": "6b6b0ebe",
      "metadata": {
        "id": "6b6b0ebe"
      },
      "source": [
        "#### Check inference on TVMC model"
      ]
    },
    {
      "cell_type": "code",
      "execution_count": 35,
      "id": "d234a2b9",
      "metadata": {
        "colab": {
          "base_uri": "https://localhost:8080/"
        },
        "id": "d234a2b9",
        "outputId": "4e00c414-1f15-46c5-83dc-6e6a8494d447"
      },
      "outputs": [
        {
          "output_type": "stream",
          "name": "stderr",
          "text": [
            "2024-12-10 20:41:35.963 INFO load_module /tmp/tmphyoym85f/mod.so\n"
          ]
        },
        {
          "output_type": "stream",
          "name": "stdout",
          "text": [
            "output shape: (1, 896, 16)\n"
          ]
        }
      ],
      "source": [
        "package = tvmc.TVMCPackage(package_path=\"face_detection_base.tar\")\n",
        "\n",
        "inputs = {\"input\": image, **vparams}\n",
        "num_iter = 10\n",
        "result = tvmc.run(package, device=\"cpu\", inputs=inputs,\n",
        "                  benchmark=True, number=num_iter)\n",
        "\n",
        "tvmc_output = result.outputs[\"output_0\"]\n",
        "print('output shape:', tvmc_output.shape)"
      ]
    },
    {
      "cell_type": "markdown",
      "id": "4665c316",
      "metadata": {
        "id": "4665c316"
      },
      "source": [
        "### AutoTVM tuning"
      ]
    },
    {
      "cell_type": "code",
      "execution_count": null,
      "id": "c8815e59",
      "metadata": {
        "id": "c8815e59"
      },
      "outputs": [],
      "source": [
        "log_file = \"statistics.log\""
      ]
    },
    {
      "cell_type": "code",
      "execution_count": null,
      "id": "9ba6f6ad",
      "metadata": {
        "id": "9ba6f6ad"
      },
      "outputs": [],
      "source": [
        "def evaluate_performance(input_name, lib, data_shape, dtype=\"float32\"):\n",
        "    # upload parameters to device\n",
        "    dev = tvm.cpu()\n",
        "    data_tvm = tvm.nd.array((np.random.uniform(size=data_shape)).astype(dtype))\n",
        "    module = graph_executor.GraphModule(lib[\"default\"](dev))\n",
        "    module.set_input(input_name, data_tvm)\n",
        "\n",
        "    # evaluate\n",
        "    print(\"Evaluate inference time cost...\")\n",
        "    print(module.benchmark(dev, number=100, repeat=3))"
      ]
    },
    {
      "cell_type": "code",
      "execution_count": null,
      "id": "e4436ecf",
      "metadata": {
        "id": "e4436ecf"
      },
      "outputs": [],
      "source": [
        "# extract workloads from relay program\n",
        "def extract_tasks_autotvm(mod, target, params):\n",
        "    print(\"Extract tasks...\")\n",
        "    print(mod)\n",
        "    tasks = autotvm.task.extract_from_program(\n",
        "        mod, target=target, params=params\n",
        "    )\n",
        "    assert(len(tasks) > 0)\n",
        "    return tasks\n",
        "\n",
        "def evaluate_autotvm(input_name, model, data_shape, log_file, target=\"llvm\"):\n",
        "    # compile kernels in default mode\n",
        "    print(\"Evaluation of the network compiled in 'default' mode without auto tune:\")\n",
        "    with tvm.transform.PassContext():\n",
        "        print(\"Compile...\")\n",
        "        lib = relay.build(model, target=target, params=params)\n",
        "        evaluate_performance(input_name, lib, data_shape)\n",
        "\n",
        "    # compile kernels in kernel tuned only mode\n",
        "    print(\"\\nEvaluation of the network been tuned on kernel level:\")\n",
        "    with autotvm.apply_history_best(log_file):\n",
        "        print(\"Compile...\")\n",
        "        with tvm.transform.PassContext():\n",
        "            lib = relay.build(model, target=target, params=params)\n",
        "        evaluate_performance(input_name, lib, data_shape)"
      ]
    },
    {
      "cell_type": "code",
      "execution_count": null,
      "id": "9a7cb323",
      "metadata": {
        "id": "9a7cb323",
        "colab": {
          "base_uri": "https://localhost:8080/"
        },
        "outputId": "8731ad62-f073-4307-adef-9267debb6140"
      },
      "outputs": [
        {
          "output_type": "stream",
          "name": "stdout",
          "text": [
            "Num threads:  2\n"
          ]
        }
      ],
      "source": [
        "import multiprocessing\n",
        "import os\n",
        "# import autotvm\n",
        "# from autotvm.tuner import XGBTuner, GATuner, RandomTuner, GridSearchTuner\n",
        "# Set number of threads used for tuning based on the number of\n",
        "# physical CPU cores on your machine.\n",
        "num_threads = multiprocessing.cpu_count()\n",
        "print(\"Num threads: \", num_threads)\n",
        "os.environ[\"TVM_NUM_THREADS\"] = str(num_threads)"
      ]
    },
    {
      "cell_type": "code",
      "execution_count": null,
      "id": "55ded394",
      "metadata": {
        "id": "55ded394"
      },
      "outputs": [],
      "source": [
        "tuning_option = {\n",
        "    \"log_filename\": log_file,\n",
        "    \"tuner\": \"xgb\",\n",
        "    \"early_stopping\": False,\n",
        "    \"n_trial\": 42,\n",
        "    \"measure_option\": autotvm.measure_option(\n",
        "        builder=autotvm.LocalBuilder(),\n",
        "        runner=autotvm.LocalRunner(\n",
        "            number=1, repeat=10, min_repeat_ms=0, enable_cpu_cache_flush=True\n",
        "        ),\n",
        "    ),\n",
        "}"
      ]
    },
    {
      "cell_type": "code",
      "execution_count": null,
      "id": "d3e3bbc6",
      "metadata": {
        "id": "d3e3bbc6"
      },
      "outputs": [],
      "source": [
        "def run_tuning_autotvm(\n",
        "    tasks, measure_option, n_trial=0, tuner=\"gridsearch\", early_stopping=None, log_filename=\"tuning.log\"\n",
        "):\n",
        "    for i, task in enumerate(tasks):\n",
        "        prefix = \"[Task %2d/%2d] \" % (i + 1, len(tasks))\n",
        "\n",
        "        if tuner == \"xgb\" or tuner == \"xgb-rank\":\n",
        "            tuner_obj = XGBTuner(task, loss_type=\"rank\")\n",
        "        elif tuner == \"ga\":\n",
        "            tuner_obj = GATuner(task, pop_size=50)\n",
        "        elif tuner == \"random\":\n",
        "            tuner_obj = RandomTuner(task)\n",
        "        elif tuner == \"gridsearch\":\n",
        "            tuner_obj = GridSearchTuner(task)\n",
        "        else:\n",
        "            raise ValueError(\"Invalid tuner: \" + tuner)\n",
        "\n",
        "        if n_trial == 0:\n",
        "          n_trial = len(task.config_space)\n",
        "        tuner_obj.tune(\n",
        "            n_trial=n_trial,\n",
        "            early_stopping=early_stopping,\n",
        "            measure_option=measure_option,\n",
        "            callbacks=[\n",
        "                autotvm.callback.progress_bar(n_trial, prefix=prefix),\n",
        "                autotvm.callback.log_to_file(log_filename),\n",
        "            ],\n",
        "        )"
      ]
    },
    {
      "cell_type": "code",
      "execution_count": null,
      "id": "bd030755",
      "metadata": {
        "id": "bd030755",
        "colab": {
          "base_uri": "https://localhost:8080/"
        },
        "collapsed": true,
        "outputId": "f3ae5f78-4748-418d-cfd6-99aa88d0c6cb"
      },
      "outputs": [
        {
          "output_type": "stream",
          "name": "stdout",
          "text": [
            "Extract tasks...\n",
            "def @main(%input: Tensor[(1, 128, 128, 3), float32] /* ty=Tensor[(1, 128, 128, 3), float32] */, %v_param_1: Tensor[(5, 5, 3, 24), float32] /* ty=Tensor[(5, 5, 3, 24), float32] */, %v_param_2: Tensor[(24), float32] /* ty=Tensor[(24), float32] */, %v_param_3: Tensor[(3, 3, 24, 1), float32] /* ty=Tensor[(3, 3, 24, 1), float32] */, %v_param_4: Tensor[(24), float32] /* ty=Tensor[(24), float32] */, %v_param_5: Tensor[(1, 1, 24, 24), float32] /* ty=Tensor[(1, 1, 24, 24), float32] */, %v_param_6: Tensor[(24), float32] /* ty=Tensor[(24), float32] */, %v_param_7: Tensor[(3, 3, 24, 1), float32] /* ty=Tensor[(3, 3, 24, 1), float32] */, %v_param_8: Tensor[(24), float32] /* ty=Tensor[(24), float32] */, %v_param_9: Tensor[(1, 1, 24, 28), float32] /* ty=Tensor[(1, 1, 24, 28), float32] */, %v_param_10: Tensor[(28), float32] /* ty=Tensor[(28), float32] */, %v_param_11: Tensor[(3, 3, 28, 1), float32] /* ty=Tensor[(3, 3, 28, 1), float32] */, %v_param_12: Tensor[(28), float32] /* ty=Tensor[(28), float32] */, %v_param_13: Tensor[(1, 1, 28, 32), float32] /* ty=Tensor[(1, 1, 28, 32), float32] */, %v_param_14: Tensor[(32), float32] /* ty=Tensor[(32), float32] */, %v_param_15: Tensor[(3, 3, 32, 1), float32] /* ty=Tensor[(3, 3, 32, 1), float32] */, %v_param_16: Tensor[(32), float32] /* ty=Tensor[(32), float32] */, %v_param_17: Tensor[(1, 1, 32, 36), float32] /* ty=Tensor[(1, 1, 32, 36), float32] */, %v_param_18: Tensor[(36), float32] /* ty=Tensor[(36), float32] */, %v_param_19: Tensor[(3, 3, 36, 1), float32] /* ty=Tensor[(3, 3, 36, 1), float32] */, %v_param_20: Tensor[(36), float32] /* ty=Tensor[(36), float32] */, %v_param_21: Tensor[(1, 1, 36, 42), float32] /* ty=Tensor[(1, 1, 36, 42), float32] */, %v_param_22: Tensor[(42), float32] /* ty=Tensor[(42), float32] */, %v_param_23: Tensor[(3, 3, 42, 1), float32] /* ty=Tensor[(3, 3, 42, 1), float32] */, %v_param_24: Tensor[(42), float32] /* ty=Tensor[(42), float32] */, %v_param_25: Tensor[(1, 1, 42, 48), float32] /* ty=Tensor[(1, 1, 42, 48), float32] */, %v_param_26: Tensor[(48), float32] /* ty=Tensor[(48), float32] */, %v_param_27: Tensor[(3, 3, 48, 1), float32] /* ty=Tensor[(3, 3, 48, 1), float32] */, %v_param_28: Tensor[(48), float32] /* ty=Tensor[(48), float32] */, %v_param_29: Tensor[(1, 1, 48, 56), float32] /* ty=Tensor[(1, 1, 48, 56), float32] */, %v_param_30: Tensor[(56), float32] /* ty=Tensor[(56), float32] */, %v_param_31: Tensor[(3, 3, 56, 1), float32] /* ty=Tensor[(3, 3, 56, 1), float32] */, %v_param_32: Tensor[(56), float32] /* ty=Tensor[(56), float32] */, %v_param_33: Tensor[(1, 1, 56, 64), float32] /* ty=Tensor[(1, 1, 56, 64), float32] */, %v_param_34: Tensor[(64), float32] /* ty=Tensor[(64), float32] */, %v_param_35: Tensor[(3, 3, 64, 1), float32] /* ty=Tensor[(3, 3, 64, 1), float32] */, %v_param_36: Tensor[(64), float32] /* ty=Tensor[(64), float32] */, %v_param_37: Tensor[(1, 1, 64, 72), float32] /* ty=Tensor[(1, 1, 64, 72), float32] */, %v_param_38: Tensor[(72), float32] /* ty=Tensor[(72), float32] */, %v_param_39: Tensor[(3, 3, 72, 1), float32] /* ty=Tensor[(3, 3, 72, 1), float32] */, %v_param_40: Tensor[(72), float32] /* ty=Tensor[(72), float32] */, %v_param_41: Tensor[(1, 1, 72, 80), float32] /* ty=Tensor[(1, 1, 72, 80), float32] */, %v_param_42: Tensor[(80), float32] /* ty=Tensor[(80), float32] */, %v_param_43: Tensor[(3, 3, 80, 1), float32] /* ty=Tensor[(3, 3, 80, 1), float32] */, %v_param_44: Tensor[(80), float32] /* ty=Tensor[(80), float32] */, %v_param_45: Tensor[(1, 1, 80, 88), float32] /* ty=Tensor[(1, 1, 80, 88), float32] */, %v_param_46: Tensor[(88), float32] /* ty=Tensor[(88), float32] */, %v_param_71: Tensor[(1, 1, 88, 32), float32] /* ty=Tensor[(1, 1, 88, 32), float32] */, %v_param_72: Tensor[(32), float32] /* ty=Tensor[(32), float32] */, %v_param_47: Tensor[(3, 3, 88, 1), float32] /* ty=Tensor[(3, 3, 88, 1), float32] */, %v_param_48: Tensor[(88), float32] /* ty=Tensor[(88), float32] */, %v_param_49: Tensor[(1, 1, 88, 96), float32] /* ty=Tensor[(1, 1, 88, 96), float32] */, %v_param_50: Tensor[(96), float32] /* ty=Tensor[(96), float32] */, %v_param_51: Tensor[(3, 3, 96, 1), float32] /* ty=Tensor[(3, 3, 96, 1), float32] */, %v_param_52: Tensor[(96), float32] /* ty=Tensor[(96), float32] */, %v_param_53: Tensor[(1, 1, 96, 96), float32] /* ty=Tensor[(1, 1, 96, 96), float32] */, %v_param_54: Tensor[(96), float32] /* ty=Tensor[(96), float32] */, %v_param_55: Tensor[(3, 3, 96, 1), float32] /* ty=Tensor[(3, 3, 96, 1), float32] */, %v_param_56: Tensor[(96), float32] /* ty=Tensor[(96), float32] */, %v_param_57: Tensor[(1, 1, 96, 96), float32] /* ty=Tensor[(1, 1, 96, 96), float32] */, %v_param_58: Tensor[(96), float32] /* ty=Tensor[(96), float32] */, %v_param_59: Tensor[(3, 3, 96, 1), float32] /* ty=Tensor[(3, 3, 96, 1), float32] */, %v_param_60: Tensor[(96), float32] /* ty=Tensor[(96), float32] */, %v_param_61: Tensor[(1, 1, 96, 96), float32] /* ty=Tensor[(1, 1, 96, 96), float32] */, %v_param_62: Tensor[(96), float32] /* ty=Tensor[(96), float32] */, %v_param_63: Tensor[(3, 3, 96, 1), float32] /* ty=Tensor[(3, 3, 96, 1), float32] */, %v_param_64: Tensor[(96), float32] /* ty=Tensor[(96), float32] */, %v_param_65: Tensor[(1, 1, 96, 96), float32] /* ty=Tensor[(1, 1, 96, 96), float32] */, %v_param_66: Tensor[(96), float32] /* ty=Tensor[(96), float32] */, %v_param_73: Tensor[(1, 1, 96, 96), float32] /* ty=Tensor[(1, 1, 96, 96), float32] */, %v_param_74: Tensor[(96), float32] /* ty=Tensor[(96), float32] */, %v_param_67: Tensor[(1, 1, 88, 2), float32] /* ty=Tensor[(1, 1, 88, 2), float32] */, %v_param_68: Tensor[(2), float32] /* ty=Tensor[(2), float32] */, %v_param_69: Tensor[(1, 1, 96, 6), float32] /* ty=Tensor[(1, 1, 96, 6), float32] */, %v_param_70: Tensor[(6), float32] /* ty=Tensor[(6), float32] */, output_tensor_names=[\"regressors\", \"classificators\"]) -> (Tensor[(1, 896, 16), float32], Tensor[(1, 896, 1), float32]) {\n",
            "  %0 = layout_transform(%input, src_layout=\"NHWC\", dst_layout=\"NCHW\") /* ty=Tensor[(1, 3, 128, 128), float32] */;\n",
            "  %1 = layout_transform(%v_param_1, src_layout=\"HWIO\", dst_layout=\"OIHW\") /* ty=Tensor[(24, 3, 5, 5), float32] */;\n",
            "  %2 = nn.conv2d(%0, %1, strides=[2, 2], padding=[1, 1, 2, 2], channels=24, kernel_size=[5, 5]) /* ty=Tensor[(1, 24, 64, 64), float32] */;\n",
            "  %3 = layout_transform(%2, src_layout=\"NCHW\", dst_layout=\"NHWC\") /* ty=Tensor[(1, 64, 64, 24), float32] */;\n",
            "  %4 = nn.bias_add(%3, %v_param_2, axis=3) /* ty=Tensor[(1, 64, 64, 24), float32] */;\n",
            "  %5 = nn.relu(%4) /* ty=Tensor[(1, 64, 64, 24), float32] */;\n",
            "  %6 = layout_transform(%5, src_layout=\"NHWC\", dst_layout=\"NCHW\") /* ty=Tensor[(1, 24, 64, 64), float32] */;\n",
            "  %7 = layout_transform(%v_param_3, src_layout=\"HWOI\", dst_layout=\"OIHW\") /* ty=Tensor[(24, 1, 3, 3), float32] */;\n",
            "  %8 = nn.conv2d(%6, %7, padding=[1, 1, 1, 1], groups=24, channels=24, kernel_size=[3, 3]) /* ty=Tensor[(1, 24, 64, 64), float32] */;\n",
            "  %9 = layout_transform(%8, src_layout=\"NCHW\", dst_layout=\"NHWC\") /* ty=Tensor[(1, 64, 64, 24), float32] */;\n",
            "  %10 = nn.bias_add(%9, %v_param_4, axis=3) /* ty=Tensor[(1, 64, 64, 24), float32] */;\n",
            "  %11 = layout_transform(%10, src_layout=\"NHWC\", dst_layout=\"NCHW\") /* ty=Tensor[(1, 24, 64, 64), float32] */;\n",
            "  %12 = layout_transform(%v_param_5, src_layout=\"HWIO\", dst_layout=\"OIHW\") /* ty=Tensor[(24, 24, 1, 1), float32] */;\n",
            "  %13 = nn.conv2d(%11, %12, padding=[0, 0, 0, 0], channels=24, kernel_size=[1, 1]) /* ty=Tensor[(1, 24, 64, 64), float32] */;\n",
            "  %14 = layout_transform(%13, src_layout=\"NCHW\", dst_layout=\"NHWC\") /* ty=Tensor[(1, 64, 64, 24), float32] */;\n",
            "  %15 = nn.bias_add(%14, %v_param_6, axis=3) /* ty=Tensor[(1, 64, 64, 24), float32] */;\n",
            "  %16 = add(%5, %15) /* ty=Tensor[(1, 64, 64, 24), float32] */;\n",
            "  %17 = nn.relu(%16) /* ty=Tensor[(1, 64, 64, 24), float32] */;\n",
            "  %18 = layout_transform(%17, src_layout=\"NHWC\", dst_layout=\"NCHW\") /* ty=Tensor[(1, 24, 64, 64), float32] */;\n",
            "  %19 = layout_transform(%v_param_7, src_layout=\"HWOI\", dst_layout=\"OIHW\") /* ty=Tensor[(24, 1, 3, 3), float32] */;\n",
            "  %20 = nn.conv2d(%18, %19, padding=[1, 1, 1, 1], groups=24, channels=24, kernel_size=[3, 3]) /* ty=Tensor[(1, 24, 64, 64), float32] */;\n",
            "  %21 = layout_transform(%20, src_layout=\"NCHW\", dst_layout=\"NHWC\") /* ty=Tensor[(1, 64, 64, 24), float32] */;\n",
            "  %22 = nn.bias_add(%21, %v_param_8, axis=3) /* ty=Tensor[(1, 64, 64, 24), float32] */;\n",
            "  %23 = layout_transform(%22, src_layout=\"NHWC\", dst_layout=\"NCHW\") /* ty=Tensor[(1, 24, 64, 64), float32] */;\n",
            "  %24 = layout_transform(%v_param_9, src_layout=\"HWIO\", dst_layout=\"OIHW\") /* ty=Tensor[(28, 24, 1, 1), float32] */;\n",
            "  %25 = nn.conv2d(%23, %24, padding=[0, 0, 0, 0], channels=28, kernel_size=[1, 1]) /* ty=Tensor[(1, 28, 64, 64), float32] */;\n",
            "  %26 = layout_transform(%25, src_layout=\"NCHW\", dst_layout=\"NHWC\") /* ty=Tensor[(1, 64, 64, 28), float32] */;\n",
            "  %27 = nn.pad(%17, 0 /* ty=int32 */, pad_width=[[0, 0], [0, 0], [0, 0], [0, 4]]) /* ty=Tensor[(1, 64, 64, 28), float32] */;\n",
            "  %28 = nn.bias_add(%26, %v_param_10, axis=3) /* ty=Tensor[(1, 64, 64, 28), float32] */;\n",
            "  %29 = add(%27, %28) /* ty=Tensor[(1, 64, 64, 28), float32] */;\n",
            "  %30 = nn.relu(%29) /* ty=Tensor[(1, 64, 64, 28), float32] */;\n",
            "  %31 = nn.max_pool2d(%30, pool_size=[2, 2], strides=[2, 2], padding=[0, 0, 0, 0], layout=\"NHWC\") /* ty=Tensor[(1, 32, 32, 28), float32] */;\n",
            "  %32 = layout_transform(%30, src_layout=\"NHWC\", dst_layout=\"NCHW\") /* ty=Tensor[(1, 28, 64, 64), float32] */;\n",
            "  %33 = layout_transform(%v_param_11, src_layout=\"HWOI\", dst_layout=\"OIHW\") /* ty=Tensor[(28, 1, 3, 3), float32] */;\n",
            "  %34 = nn.conv2d(%32, %33, strides=[2, 2], padding=[0, 0, 1, 1], groups=28, channels=28, kernel_size=[3, 3]) /* ty=Tensor[(1, 28, 32, 32), float32] */;\n",
            "  %35 = layout_transform(%34, src_layout=\"NCHW\", dst_layout=\"NHWC\") /* ty=Tensor[(1, 32, 32, 28), float32] */;\n",
            "  %36 = nn.bias_add(%35, %v_param_12, axis=3) /* ty=Tensor[(1, 32, 32, 28), float32] */;\n",
            "  %37 = layout_transform(%36, src_layout=\"NHWC\", dst_layout=\"NCHW\") /* ty=Tensor[(1, 28, 32, 32), float32] */;\n",
            "  %38 = layout_transform(%v_param_13, src_layout=\"HWIO\", dst_layout=\"OIHW\") /* ty=Tensor[(32, 28, 1, 1), float32] */;\n",
            "  %39 = nn.conv2d(%37, %38, padding=[0, 0, 0, 0], channels=32, kernel_size=[1, 1]) /* ty=Tensor[(1, 32, 32, 32), float32] */;\n",
            "  %40 = layout_transform(%39, src_layout=\"NCHW\", dst_layout=\"NHWC\") /* ty=Tensor[(1, 32, 32, 32), float32] */;\n",
            "  %41 = nn.pad(%31, 0 /* ty=int32 */, pad_width=[[0, 0], [0, 0], [0, 0], [0, 4]]) /* ty=Tensor[(1, 32, 32, 32), float32] */;\n",
            "  %42 = nn.bias_add(%40, %v_param_14, axis=3) /* ty=Tensor[(1, 32, 32, 32), float32] */;\n",
            "  %43 = add(%41, %42) /* ty=Tensor[(1, 32, 32, 32), float32] */;\n",
            "  %44 = nn.relu(%43) /* ty=Tensor[(1, 32, 32, 32), float32] */;\n",
            "  %45 = layout_transform(%44, src_layout=\"NHWC\", dst_layout=\"NCHW\") /* ty=Tensor[(1, 32, 32, 32), float32] */;\n",
            "  %46 = layout_transform(%v_param_15, src_layout=\"HWOI\", dst_layout=\"OIHW\") /* ty=Tensor[(32, 1, 3, 3), float32] */;\n",
            "  %47 = nn.conv2d(%45, %46, padding=[1, 1, 1, 1], groups=32, channels=32, kernel_size=[3, 3]) /* ty=Tensor[(1, 32, 32, 32), float32] */;\n",
            "  %48 = layout_transform(%47, src_layout=\"NCHW\", dst_layout=\"NHWC\") /* ty=Tensor[(1, 32, 32, 32), float32] */;\n",
            "  %49 = nn.bias_add(%48, %v_param_16, axis=3) /* ty=Tensor[(1, 32, 32, 32), float32] */;\n",
            "  %50 = layout_transform(%49, src_layout=\"NHWC\", dst_layout=\"NCHW\") /* ty=Tensor[(1, 32, 32, 32), float32] */;\n",
            "  %51 = layout_transform(%v_param_17, src_layout=\"HWIO\", dst_layout=\"OIHW\") /* ty=Tensor[(36, 32, 1, 1), float32] */;\n",
            "  %52 = nn.conv2d(%50, %51, padding=[0, 0, 0, 0], channels=36, kernel_size=[1, 1]) /* ty=Tensor[(1, 36, 32, 32), float32] */;\n",
            "  %53 = layout_transform(%52, src_layout=\"NCHW\", dst_layout=\"NHWC\") /* ty=Tensor[(1, 32, 32, 36), float32] */;\n",
            "  %54 = nn.pad(%44, 0 /* ty=int32 */, pad_width=[[0, 0], [0, 0], [0, 0], [0, 4]]) /* ty=Tensor[(1, 32, 32, 36), float32] */;\n",
            "  %55 = nn.bias_add(%53, %v_param_18, axis=3) /* ty=Tensor[(1, 32, 32, 36), float32] */;\n",
            "  %56 = add(%54, %55) /* ty=Tensor[(1, 32, 32, 36), float32] */;\n",
            "  %57 = nn.relu(%56) /* ty=Tensor[(1, 32, 32, 36), float32] */;\n",
            "  %58 = layout_transform(%57, src_layout=\"NHWC\", dst_layout=\"NCHW\") /* ty=Tensor[(1, 36, 32, 32), float32] */;\n",
            "  %59 = layout_transform(%v_param_19, src_layout=\"HWOI\", dst_layout=\"OIHW\") /* ty=Tensor[(36, 1, 3, 3), float32] */;\n",
            "  %60 = nn.conv2d(%58, %59, padding=[1, 1, 1, 1], groups=36, channels=36, kernel_size=[3, 3]) /* ty=Tensor[(1, 36, 32, 32), float32] */;\n",
            "  %61 = layout_transform(%60, src_layout=\"NCHW\", dst_layout=\"NHWC\") /* ty=Tensor[(1, 32, 32, 36), float32] */;\n",
            "  %62 = nn.bias_add(%61, %v_param_20, axis=3) /* ty=Tensor[(1, 32, 32, 36), float32] */;\n",
            "  %63 = layout_transform(%62, src_layout=\"NHWC\", dst_layout=\"NCHW\") /* ty=Tensor[(1, 36, 32, 32), float32] */;\n",
            "  %64 = layout_transform(%v_param_21, src_layout=\"HWIO\", dst_layout=\"OIHW\") /* ty=Tensor[(42, 36, 1, 1), float32] */;\n",
            "  %65 = nn.conv2d(%63, %64, padding=[0, 0, 0, 0], channels=42, kernel_size=[1, 1]) /* ty=Tensor[(1, 42, 32, 32), float32] */;\n",
            "  %66 = layout_transform(%65, src_layout=\"NCHW\", dst_layout=\"NHWC\") /* ty=Tensor[(1, 32, 32, 42), float32] */;\n",
            "  %67 = nn.pad(%57, 0 /* ty=int32 */, pad_width=[[0, 0], [0, 0], [0, 0], [0, 6]]) /* ty=Tensor[(1, 32, 32, 42), float32] */;\n",
            "  %68 = nn.bias_add(%66, %v_param_22, axis=3) /* ty=Tensor[(1, 32, 32, 42), float32] */;\n",
            "  %69 = add(%67, %68) /* ty=Tensor[(1, 32, 32, 42), float32] */;\n",
            "  %70 = nn.relu(%69) /* ty=Tensor[(1, 32, 32, 42), float32] */;\n",
            "  %71 = nn.max_pool2d(%70, pool_size=[2, 2], strides=[2, 2], padding=[0, 0, 0, 0], layout=\"NHWC\") /* ty=Tensor[(1, 16, 16, 42), float32] */;\n",
            "  %72 = layout_transform(%70, src_layout=\"NHWC\", dst_layout=\"NCHW\") /* ty=Tensor[(1, 42, 32, 32), float32] */;\n",
            "  %73 = layout_transform(%v_param_23, src_layout=\"HWOI\", dst_layout=\"OIHW\") /* ty=Tensor[(42, 1, 3, 3), float32] */;\n",
            "  %74 = nn.conv2d(%72, %73, strides=[2, 2], padding=[0, 0, 1, 1], groups=42, channels=42, kernel_size=[3, 3]) /* ty=Tensor[(1, 42, 16, 16), float32] */;\n",
            "  %75 = layout_transform(%74, src_layout=\"NCHW\", dst_layout=\"NHWC\") /* ty=Tensor[(1, 16, 16, 42), float32] */;\n",
            "  %76 = nn.bias_add(%75, %v_param_24, axis=3) /* ty=Tensor[(1, 16, 16, 42), float32] */;\n",
            "  %77 = layout_transform(%76, src_layout=\"NHWC\", dst_layout=\"NCHW\") /* ty=Tensor[(1, 42, 16, 16), float32] */;\n",
            "  %78 = layout_transform(%v_param_25, src_layout=\"HWIO\", dst_layout=\"OIHW\") /* ty=Tensor[(48, 42, 1, 1), float32] */;\n",
            "  %79 = nn.conv2d(%77, %78, padding=[0, 0, 0, 0], channels=48, kernel_size=[1, 1]) /* ty=Tensor[(1, 48, 16, 16), float32] */;\n",
            "  %80 = layout_transform(%79, src_layout=\"NCHW\", dst_layout=\"NHWC\") /* ty=Tensor[(1, 16, 16, 48), float32] */;\n",
            "  %81 = nn.pad(%71, 0 /* ty=int32 */, pad_width=[[0, 0], [0, 0], [0, 0], [0, 6]]) /* ty=Tensor[(1, 16, 16, 48), float32] */;\n",
            "  %82 = nn.bias_add(%80, %v_param_26, axis=3) /* ty=Tensor[(1, 16, 16, 48), float32] */;\n",
            "  %83 = add(%81, %82) /* ty=Tensor[(1, 16, 16, 48), float32] */;\n",
            "  %84 = nn.relu(%83) /* ty=Tensor[(1, 16, 16, 48), float32] */;\n",
            "  %85 = layout_transform(%84, src_layout=\"NHWC\", dst_layout=\"NCHW\") /* ty=Tensor[(1, 48, 16, 16), float32] */;\n",
            "  %86 = layout_transform(%v_param_27, src_layout=\"HWOI\", dst_layout=\"OIHW\") /* ty=Tensor[(48, 1, 3, 3), float32] */;\n",
            "  %87 = nn.conv2d(%85, %86, padding=[1, 1, 1, 1], groups=48, channels=48, kernel_size=[3, 3]) /* ty=Tensor[(1, 48, 16, 16), float32] */;\n",
            "  %88 = layout_transform(%87, src_layout=\"NCHW\", dst_layout=\"NHWC\") /* ty=Tensor[(1, 16, 16, 48), float32] */;\n",
            "  %89 = nn.bias_add(%88, %v_param_28, axis=3) /* ty=Tensor[(1, 16, 16, 48), float32] */;\n",
            "  %90 = layout_transform(%89, src_layout=\"NHWC\", dst_layout=\"NCHW\") /* ty=Tensor[(1, 48, 16, 16), float32] */;\n",
            "  %91 = layout_transform(%v_param_29, src_layout=\"HWIO\", dst_layout=\"OIHW\") /* ty=Tensor[(56, 48, 1, 1), float32] */;\n",
            "  %92 = nn.conv2d(%90, %91, padding=[0, 0, 0, 0], channels=56, kernel_size=[1, 1]) /* ty=Tensor[(1, 56, 16, 16), float32] */;\n",
            "  %93 = layout_transform(%92, src_layout=\"NCHW\", dst_layout=\"NHWC\") /* ty=Tensor[(1, 16, 16, 56), float32] */;\n",
            "  %94 = nn.pad(%84, 0 /* ty=int32 */, pad_width=[[0, 0], [0, 0], [0, 0], [0, 8]]) /* ty=Tensor[(1, 16, 16, 56), float32] */;\n",
            "  %95 = nn.bias_add(%93, %v_param_30, axis=3) /* ty=Tensor[(1, 16, 16, 56), float32] */;\n",
            "  %96 = add(%94, %95) /* ty=Tensor[(1, 16, 16, 56), float32] */;\n",
            "  %97 = nn.relu(%96) /* ty=Tensor[(1, 16, 16, 56), float32] */;\n",
            "  %98 = layout_transform(%97, src_layout=\"NHWC\", dst_layout=\"NCHW\") /* ty=Tensor[(1, 56, 16, 16), float32] */;\n",
            "  %99 = layout_transform(%v_param_31, src_layout=\"HWOI\", dst_layout=\"OIHW\") /* ty=Tensor[(56, 1, 3, 3), float32] */;\n",
            "  %100 = nn.conv2d(%98, %99, padding=[1, 1, 1, 1], groups=56, channels=56, kernel_size=[3, 3]) /* ty=Tensor[(1, 56, 16, 16), float32] */;\n",
            "  %101 = layout_transform(%100, src_layout=\"NCHW\", dst_layout=\"NHWC\") /* ty=Tensor[(1, 16, 16, 56), float32] */;\n",
            "  %102 = nn.bias_add(%101, %v_param_32, axis=3) /* ty=Tensor[(1, 16, 16, 56), float32] */;\n",
            "  %103 = layout_transform(%102, src_layout=\"NHWC\", dst_layout=\"NCHW\") /* ty=Tensor[(1, 56, 16, 16), float32] */;\n",
            "  %104 = layout_transform(%v_param_33, src_layout=\"HWIO\", dst_layout=\"OIHW\") /* ty=Tensor[(64, 56, 1, 1), float32] */;\n",
            "  %105 = nn.conv2d(%103, %104, padding=[0, 0, 0, 0], channels=64, kernel_size=[1, 1]) /* ty=Tensor[(1, 64, 16, 16), float32] */;\n",
            "  %106 = layout_transform(%105, src_layout=\"NCHW\", dst_layout=\"NHWC\") /* ty=Tensor[(1, 16, 16, 64), float32] */;\n",
            "  %107 = nn.pad(%97, 0 /* ty=int32 */, pad_width=[[0, 0], [0, 0], [0, 0], [0, 8]]) /* ty=Tensor[(1, 16, 16, 64), float32] */;\n",
            "  %108 = nn.bias_add(%106, %v_param_34, axis=3) /* ty=Tensor[(1, 16, 16, 64), float32] */;\n",
            "  %109 = add(%107, %108) /* ty=Tensor[(1, 16, 16, 64), float32] */;\n",
            "  %110 = nn.relu(%109) /* ty=Tensor[(1, 16, 16, 64), float32] */;\n",
            "  %111 = layout_transform(%110, src_layout=\"NHWC\", dst_layout=\"NCHW\") /* ty=Tensor[(1, 64, 16, 16), float32] */;\n",
            "  %112 = layout_transform(%v_param_35, src_layout=\"HWOI\", dst_layout=\"OIHW\") /* ty=Tensor[(64, 1, 3, 3), float32] */;\n",
            "  %113 = nn.conv2d(%111, %112, padding=[1, 1, 1, 1], groups=64, channels=64, kernel_size=[3, 3]) /* ty=Tensor[(1, 64, 16, 16), float32] */;\n",
            "  %114 = layout_transform(%113, src_layout=\"NCHW\", dst_layout=\"NHWC\") /* ty=Tensor[(1, 16, 16, 64), float32] */;\n",
            "  %115 = nn.bias_add(%114, %v_param_36, axis=3) /* ty=Tensor[(1, 16, 16, 64), float32] */;\n",
            "  %116 = layout_transform(%115, src_layout=\"NHWC\", dst_layout=\"NCHW\") /* ty=Tensor[(1, 64, 16, 16), float32] */;\n",
            "  %117 = layout_transform(%v_param_37, src_layout=\"HWIO\", dst_layout=\"OIHW\") /* ty=Tensor[(72, 64, 1, 1), float32] */;\n",
            "  %118 = nn.conv2d(%116, %117, padding=[0, 0, 0, 0], channels=72, kernel_size=[1, 1]) /* ty=Tensor[(1, 72, 16, 16), float32] */;\n",
            "  %119 = layout_transform(%118, src_layout=\"NCHW\", dst_layout=\"NHWC\") /* ty=Tensor[(1, 16, 16, 72), float32] */;\n",
            "  %120 = nn.pad(%110, 0 /* ty=int32 */, pad_width=[[0, 0], [0, 0], [0, 0], [0, 8]]) /* ty=Tensor[(1, 16, 16, 72), float32] */;\n",
            "  %121 = nn.bias_add(%119, %v_param_38, axis=3) /* ty=Tensor[(1, 16, 16, 72), float32] */;\n",
            "  %122 = add(%120, %121) /* ty=Tensor[(1, 16, 16, 72), float32] */;\n",
            "  %123 = nn.relu(%122) /* ty=Tensor[(1, 16, 16, 72), float32] */;\n",
            "  %124 = layout_transform(%123, src_layout=\"NHWC\", dst_layout=\"NCHW\") /* ty=Tensor[(1, 72, 16, 16), float32] */;\n",
            "  %125 = layout_transform(%v_param_39, src_layout=\"HWOI\", dst_layout=\"OIHW\") /* ty=Tensor[(72, 1, 3, 3), float32] */;\n",
            "  %126 = nn.conv2d(%124, %125, padding=[1, 1, 1, 1], groups=72, channels=72, kernel_size=[3, 3]) /* ty=Tensor[(1, 72, 16, 16), float32] */;\n",
            "  %127 = layout_transform(%126, src_layout=\"NCHW\", dst_layout=\"NHWC\") /* ty=Tensor[(1, 16, 16, 72), float32] */;\n",
            "  %128 = nn.bias_add(%127, %v_param_40, axis=3) /* ty=Tensor[(1, 16, 16, 72), float32] */;\n",
            "  %129 = layout_transform(%128, src_layout=\"NHWC\", dst_layout=\"NCHW\") /* ty=Tensor[(1, 72, 16, 16), float32] */;\n",
            "  %130 = layout_transform(%v_param_41, src_layout=\"HWIO\", dst_layout=\"OIHW\") /* ty=Tensor[(80, 72, 1, 1), float32] */;\n",
            "  %131 = nn.conv2d(%129, %130, padding=[0, 0, 0, 0], channels=80, kernel_size=[1, 1]) /* ty=Tensor[(1, 80, 16, 16), float32] */;\n",
            "  %132 = layout_transform(%131, src_layout=\"NCHW\", dst_layout=\"NHWC\") /* ty=Tensor[(1, 16, 16, 80), float32] */;\n",
            "  %133 = nn.pad(%123, 0 /* ty=int32 */, pad_width=[[0, 0], [0, 0], [0, 0], [0, 8]]) /* ty=Tensor[(1, 16, 16, 80), float32] */;\n",
            "  %134 = nn.bias_add(%132, %v_param_42, axis=3) /* ty=Tensor[(1, 16, 16, 80), float32] */;\n",
            "  %135 = add(%133, %134) /* ty=Tensor[(1, 16, 16, 80), float32] */;\n",
            "  %136 = nn.relu(%135) /* ty=Tensor[(1, 16, 16, 80), float32] */;\n",
            "  %137 = layout_transform(%136, src_layout=\"NHWC\", dst_layout=\"NCHW\") /* ty=Tensor[(1, 80, 16, 16), float32] */;\n",
            "  %138 = layout_transform(%v_param_43, src_layout=\"HWOI\", dst_layout=\"OIHW\") /* ty=Tensor[(80, 1, 3, 3), float32] */;\n",
            "  %139 = nn.conv2d(%137, %138, padding=[1, 1, 1, 1], groups=80, channels=80, kernel_size=[3, 3]) /* ty=Tensor[(1, 80, 16, 16), float32] */;\n",
            "  %140 = layout_transform(%139, src_layout=\"NCHW\", dst_layout=\"NHWC\") /* ty=Tensor[(1, 16, 16, 80), float32] */;\n",
            "  %141 = nn.bias_add(%140, %v_param_44, axis=3) /* ty=Tensor[(1, 16, 16, 80), float32] */;\n",
            "  %142 = layout_transform(%141, src_layout=\"NHWC\", dst_layout=\"NCHW\") /* ty=Tensor[(1, 80, 16, 16), float32] */;\n",
            "  %143 = layout_transform(%v_param_45, src_layout=\"HWIO\", dst_layout=\"OIHW\") /* ty=Tensor[(88, 80, 1, 1), float32] */;\n",
            "  %144 = nn.conv2d(%142, %143, padding=[0, 0, 0, 0], channels=88, kernel_size=[1, 1]) /* ty=Tensor[(1, 88, 16, 16), float32] */;\n",
            "  %145 = layout_transform(%144, src_layout=\"NCHW\", dst_layout=\"NHWC\") /* ty=Tensor[(1, 16, 16, 88), float32] */;\n",
            "  %146 = nn.pad(%136, 0 /* ty=int32 */, pad_width=[[0, 0], [0, 0], [0, 0], [0, 8]]) /* ty=Tensor[(1, 16, 16, 88), float32] */;\n",
            "  %147 = nn.bias_add(%145, %v_param_46, axis=3) /* ty=Tensor[(1, 16, 16, 88), float32] */;\n",
            "  %148 = add(%146, %147) /* ty=Tensor[(1, 16, 16, 88), float32] */;\n",
            "  %149 = nn.relu(%148) /* ty=Tensor[(1, 16, 16, 88), float32] */;\n",
            "  %150 = layout_transform(%149, src_layout=\"NHWC\", dst_layout=\"NCHW\") /* ty=Tensor[(1, 88, 16, 16), float32] */;\n",
            "  %151 = layout_transform(%v_param_71, src_layout=\"HWIO\", dst_layout=\"OIHW\") /* ty=Tensor[(32, 88, 1, 1), float32] */;\n",
            "  %152 = nn.conv2d(%150, %151, padding=[0, 0, 0, 0], channels=32, kernel_size=[1, 1]) /* ty=Tensor[(1, 32, 16, 16), float32] */;\n",
            "  %153 = layout_transform(%152, src_layout=\"NCHW\", dst_layout=\"NHWC\") /* ty=Tensor[(1, 16, 16, 32), float32] */;\n",
            "  %154 = nn.bias_add(%153, %v_param_72, axis=3) /* ty=Tensor[(1, 16, 16, 32), float32] */;\n",
            "  %155 = nn.max_pool2d(%149, pool_size=[2, 2], strides=[2, 2], padding=[0, 0, 0, 0], layout=\"NHWC\") /* ty=Tensor[(1, 8, 8, 88), float32] */;\n",
            "  %156 = layout_transform(%v_param_47, src_layout=\"HWOI\", dst_layout=\"OIHW\") /* ty=Tensor[(88, 1, 3, 3), float32] */;\n",
            "  %157 = nn.conv2d(%150, %156, strides=[2, 2], padding=[0, 0, 1, 1], groups=88, channels=88, kernel_size=[3, 3]) /* ty=Tensor[(1, 88, 8, 8), float32] */;\n",
            "  %158 = layout_transform(%157, src_layout=\"NCHW\", dst_layout=\"NHWC\") /* ty=Tensor[(1, 8, 8, 88), float32] */;\n",
            "  %159 = nn.bias_add(%158, %v_param_48, axis=3) /* ty=Tensor[(1, 8, 8, 88), float32] */;\n",
            "  %160 = layout_transform(%159, src_layout=\"NHWC\", dst_layout=\"NCHW\") /* ty=Tensor[(1, 88, 8, 8), float32] */;\n",
            "  %161 = layout_transform(%v_param_49, src_layout=\"HWIO\", dst_layout=\"OIHW\") /* ty=Tensor[(96, 88, 1, 1), float32] */;\n",
            "  %162 = nn.conv2d(%160, %161, padding=[0, 0, 0, 0], channels=96, kernel_size=[1, 1]) /* ty=Tensor[(1, 96, 8, 8), float32] */;\n",
            "  %163 = layout_transform(%162, src_layout=\"NCHW\", dst_layout=\"NHWC\") /* ty=Tensor[(1, 8, 8, 96), float32] */;\n",
            "  %164 = nn.pad(%155, 0 /* ty=int32 */, pad_width=[[0, 0], [0, 0], [0, 0], [0, 8]]) /* ty=Tensor[(1, 8, 8, 96), float32] */;\n",
            "  %165 = nn.bias_add(%163, %v_param_50, axis=3) /* ty=Tensor[(1, 8, 8, 96), float32] */;\n",
            "  %166 = add(%164, %165) /* ty=Tensor[(1, 8, 8, 96), float32] */;\n",
            "  %167 = nn.relu(%166) /* ty=Tensor[(1, 8, 8, 96), float32] */;\n",
            "  %168 = layout_transform(%167, src_layout=\"NHWC\", dst_layout=\"NCHW\") /* ty=Tensor[(1, 96, 8, 8), float32] */;\n",
            "  %169 = layout_transform(%v_param_51, src_layout=\"HWOI\", dst_layout=\"OIHW\") /* ty=Tensor[(96, 1, 3, 3), float32] */;\n",
            "  %170 = nn.conv2d(%168, %169, padding=[1, 1, 1, 1], groups=96, channels=96, kernel_size=[3, 3]) /* ty=Tensor[(1, 96, 8, 8), float32] */;\n",
            "  %171 = layout_transform(%170, src_layout=\"NCHW\", dst_layout=\"NHWC\") /* ty=Tensor[(1, 8, 8, 96), float32] */;\n",
            "  %172 = nn.bias_add(%171, %v_param_52, axis=3) /* ty=Tensor[(1, 8, 8, 96), float32] */;\n",
            "  %173 = layout_transform(%172, src_layout=\"NHWC\", dst_layout=\"NCHW\") /* ty=Tensor[(1, 96, 8, 8), float32] */;\n",
            "  %174 = layout_transform(%v_param_53, src_layout=\"HWIO\", dst_layout=\"OIHW\") /* ty=Tensor[(96, 96, 1, 1), float32] */;\n",
            "  %175 = nn.conv2d(%173, %174, padding=[0, 0, 0, 0], channels=96, kernel_size=[1, 1]) /* ty=Tensor[(1, 96, 8, 8), float32] */;\n",
            "  %176 = layout_transform(%175, src_layout=\"NCHW\", dst_layout=\"NHWC\") /* ty=Tensor[(1, 8, 8, 96), float32] */;\n",
            "  %177 = nn.bias_add(%176, %v_param_54, axis=3) /* ty=Tensor[(1, 8, 8, 96), float32] */;\n",
            "  %178 = add(%167, %177) /* ty=Tensor[(1, 8, 8, 96), float32] */;\n",
            "  %179 = nn.relu(%178) /* ty=Tensor[(1, 8, 8, 96), float32] */;\n",
            "  %180 = layout_transform(%179, src_layout=\"NHWC\", dst_layout=\"NCHW\") /* ty=Tensor[(1, 96, 8, 8), float32] */;\n",
            "  %181 = layout_transform(%v_param_55, src_layout=\"HWOI\", dst_layout=\"OIHW\") /* ty=Tensor[(96, 1, 3, 3), float32] */;\n",
            "  %182 = nn.conv2d(%180, %181, padding=[1, 1, 1, 1], groups=96, channels=96, kernel_size=[3, 3]) /* ty=Tensor[(1, 96, 8, 8), float32] */;\n",
            "  %183 = layout_transform(%182, src_layout=\"NCHW\", dst_layout=\"NHWC\") /* ty=Tensor[(1, 8, 8, 96), float32] */;\n",
            "  %184 = nn.bias_add(%183, %v_param_56, axis=3) /* ty=Tensor[(1, 8, 8, 96), float32] */;\n",
            "  %185 = layout_transform(%184, src_layout=\"NHWC\", dst_layout=\"NCHW\") /* ty=Tensor[(1, 96, 8, 8), float32] */;\n",
            "  %186 = layout_transform(%v_param_57, src_layout=\"HWIO\", dst_layout=\"OIHW\") /* ty=Tensor[(96, 96, 1, 1), float32] */;\n",
            "  %187 = nn.conv2d(%185, %186, padding=[0, 0, 0, 0], channels=96, kernel_size=[1, 1]) /* ty=Tensor[(1, 96, 8, 8), float32] */;\n",
            "  %188 = layout_transform(%187, src_layout=\"NCHW\", dst_layout=\"NHWC\") /* ty=Tensor[(1, 8, 8, 96), float32] */;\n",
            "  %189 = nn.bias_add(%188, %v_param_58, axis=3) /* ty=Tensor[(1, 8, 8, 96), float32] */;\n",
            "  %190 = add(%179, %189) /* ty=Tensor[(1, 8, 8, 96), float32] */;\n",
            "  %191 = nn.relu(%190) /* ty=Tensor[(1, 8, 8, 96), float32] */;\n",
            "  %192 = layout_transform(%191, src_layout=\"NHWC\", dst_layout=\"NCHW\") /* ty=Tensor[(1, 96, 8, 8), float32] */;\n",
            "  %193 = layout_transform(%v_param_59, src_layout=\"HWOI\", dst_layout=\"OIHW\") /* ty=Tensor[(96, 1, 3, 3), float32] */;\n",
            "  %194 = nn.conv2d(%192, %193, padding=[1, 1, 1, 1], groups=96, channels=96, kernel_size=[3, 3]) /* ty=Tensor[(1, 96, 8, 8), float32] */;\n",
            "  %195 = layout_transform(%194, src_layout=\"NCHW\", dst_layout=\"NHWC\") /* ty=Tensor[(1, 8, 8, 96), float32] */;\n",
            "  %196 = nn.bias_add(%195, %v_param_60, axis=3) /* ty=Tensor[(1, 8, 8, 96), float32] */;\n",
            "  %197 = layout_transform(%196, src_layout=\"NHWC\", dst_layout=\"NCHW\") /* ty=Tensor[(1, 96, 8, 8), float32] */;\n",
            "  %198 = layout_transform(%v_param_61, src_layout=\"HWIO\", dst_layout=\"OIHW\") /* ty=Tensor[(96, 96, 1, 1), float32] */;\n",
            "  %199 = nn.conv2d(%197, %198, padding=[0, 0, 0, 0], channels=96, kernel_size=[1, 1]) /* ty=Tensor[(1, 96, 8, 8), float32] */;\n",
            "  %200 = layout_transform(%199, src_layout=\"NCHW\", dst_layout=\"NHWC\") /* ty=Tensor[(1, 8, 8, 96), float32] */;\n",
            "  %201 = nn.bias_add(%200, %v_param_62, axis=3) /* ty=Tensor[(1, 8, 8, 96), float32] */;\n",
            "  %202 = add(%191, %201) /* ty=Tensor[(1, 8, 8, 96), float32] */;\n",
            "  %203 = nn.relu(%202) /* ty=Tensor[(1, 8, 8, 96), float32] */;\n",
            "  %204 = layout_transform(%203, src_layout=\"NHWC\", dst_layout=\"NCHW\") /* ty=Tensor[(1, 96, 8, 8), float32] */;\n",
            "  %205 = layout_transform(%v_param_63, src_layout=\"HWOI\", dst_layout=\"OIHW\") /* ty=Tensor[(96, 1, 3, 3), float32] */;\n",
            "  %206 = nn.conv2d(%204, %205, padding=[1, 1, 1, 1], groups=96, channels=96, kernel_size=[3, 3]) /* ty=Tensor[(1, 96, 8, 8), float32] */;\n",
            "  %207 = layout_transform(%206, src_layout=\"NCHW\", dst_layout=\"NHWC\") /* ty=Tensor[(1, 8, 8, 96), float32] */;\n",
            "  %208 = nn.bias_add(%207, %v_param_64, axis=3) /* ty=Tensor[(1, 8, 8, 96), float32] */;\n",
            "  %209 = layout_transform(%208, src_layout=\"NHWC\", dst_layout=\"NCHW\") /* ty=Tensor[(1, 96, 8, 8), float32] */;\n",
            "  %210 = layout_transform(%v_param_65, src_layout=\"HWIO\", dst_layout=\"OIHW\") /* ty=Tensor[(96, 96, 1, 1), float32] */;\n",
            "  %211 = nn.conv2d(%209, %210, padding=[0, 0, 0, 0], channels=96, kernel_size=[1, 1]) /* ty=Tensor[(1, 96, 8, 8), float32] */;\n",
            "  %212 = layout_transform(%211, src_layout=\"NCHW\", dst_layout=\"NHWC\") /* ty=Tensor[(1, 8, 8, 96), float32] */;\n",
            "  %213 = nn.bias_add(%212, %v_param_66, axis=3) /* ty=Tensor[(1, 8, 8, 96), float32] */;\n",
            "  %214 = add(%203, %213) /* ty=Tensor[(1, 8, 8, 96), float32] */;\n",
            "  %215 = nn.relu(%214) /* ty=Tensor[(1, 8, 8, 96), float32] */;\n",
            "  %216 = layout_transform(%215, src_layout=\"NHWC\", dst_layout=\"NCHW\") /* ty=Tensor[(1, 96, 8, 8), float32] */;\n",
            "  %217 = layout_transform(%v_param_73, src_layout=\"HWIO\", dst_layout=\"OIHW\") /* ty=Tensor[(96, 96, 1, 1), float32] */;\n",
            "  %218 = nn.conv2d(%216, %217, padding=[0, 0, 0, 0], channels=96, kernel_size=[1, 1]) /* ty=Tensor[(1, 96, 8, 8), float32] */;\n",
            "  %219 = layout_transform(%218, src_layout=\"NCHW\", dst_layout=\"NHWC\") /* ty=Tensor[(1, 8, 8, 96), float32] */;\n",
            "  %220 = nn.bias_add(%219, %v_param_74, axis=3) /* ty=Tensor[(1, 8, 8, 96), float32] */;\n",
            "  %221 = reshape(%154, newshape=[1, -1, 16]) /* ty=Tensor[(1, 512, 16), float32] */;\n",
            "  %222 = reshape(%220, newshape=[1, -1, 16]) /* ty=Tensor[(1, 384, 16), float32] */;\n",
            "  %223 = (%221, %222) /* ty=(Tensor[(1, 512, 16), float32], Tensor[(1, 384, 16), float32]) */;\n",
            "  %224 = layout_transform(%v_param_67, src_layout=\"HWIO\", dst_layout=\"OIHW\") /* ty=Tensor[(2, 88, 1, 1), float32] */;\n",
            "  %225 = nn.conv2d(%150, %224, padding=[0, 0, 0, 0], channels=2, kernel_size=[1, 1]) /* ty=Tensor[(1, 2, 16, 16), float32] */;\n",
            "  %226 = layout_transform(%225, src_layout=\"NCHW\", dst_layout=\"NHWC\") /* ty=Tensor[(1, 16, 16, 2), float32] */;\n",
            "  %227 = nn.bias_add(%226, %v_param_68, axis=3) /* ty=Tensor[(1, 16, 16, 2), float32] */;\n",
            "  %228 = layout_transform(%v_param_69, src_layout=\"HWIO\", dst_layout=\"OIHW\") /* ty=Tensor[(6, 96, 1, 1), float32] */;\n",
            "  %229 = nn.conv2d(%216, %228, padding=[0, 0, 0, 0], channels=6, kernel_size=[1, 1]) /* ty=Tensor[(1, 6, 8, 8), float32] */;\n",
            "  %230 = layout_transform(%229, src_layout=\"NCHW\", dst_layout=\"NHWC\") /* ty=Tensor[(1, 8, 8, 6), float32] */;\n",
            "  %231 = nn.bias_add(%230, %v_param_70, axis=3) /* ty=Tensor[(1, 8, 8, 6), float32] */;\n",
            "  %232 = reshape(%227, newshape=[1, -1, 1]) /* ty=Tensor[(1, 512, 1), float32] */;\n",
            "  %233 = reshape(%231, newshape=[1, -1, 1]) /* ty=Tensor[(1, 384, 1), float32] */;\n",
            "  %234 = (%232, %233) /* ty=(Tensor[(1, 512, 1), float32], Tensor[(1, 384, 1), float32]) */;\n",
            "  %235 = concatenate(%223, axis=1) /* ty=Tensor[(1, 896, 16), float32] */;\n",
            "  %236 = concatenate(%234, axis=1) /* ty=Tensor[(1, 896, 1), float32] */;\n",
            "  (%235, %236) /* ty=(Tensor[(1, 896, 16), float32], Tensor[(1, 896, 1), float32]) */\n",
            "}\n",
            "\n",
            "[Task  1/29]  Current/Best:    5.24/  17.98 GFLOPS | Progress: (42/42) | 38.67 s Done.\n",
            "[Task  2/29]  Current/Best:    5.37/  11.25 GFLOPS | Progress: (42/42) | 45.83 s Done.\n",
            "[Task  3/29]  Current/Best:    5.09/  16.47 GFLOPS | Progress: (42/42) | 39.56 s Done.\n",
            "[Task  4/29]  Current/Best:   15.06/  15.06 GFLOPS | Progress: (42/42) | 37.27 s Done.\n",
            "[Task  5/29]  Current/Best:    8.10/  15.70 GFLOPS | Progress: (42/42) | 29.78 s Done.\n",
            "[Task  6/29]  Current/Best:    9.71/  15.51 GFLOPS | Progress: (42/42) | 25.05 s Done.\n",
            "[Task  7/29]  Current/Best:   10.14/  17.04 GFLOPS | Progress: (42/42) | 32.30 s Done.\n",
            "[Task  8/29]  Current/Best:    3.20/  11.95 GFLOPS | Progress: (42/42) | 36.23 s Done.\n",
            "[Task 10/29]  Current/Best:    2.43/  10.25 GFLOPS | Progress: (42/42) | 30.06 s Done.\n",
            "[Task 11/29]  Current/Best:    2.48/  13.34 GFLOPS | Progress: (42/42) | 31.34 s Done.\n",
            "[Task 12/29]  Current/Best:    7.22/  17.79 GFLOPS | Progress: (42/42) | 28.26 s Done.\n",
            "[Task 13/29]  Current/Best:    4.26/  18.16 GFLOPS | Progress: (42/42) | 26.68 s Done.\n",
            "[Task 14/29]  Current/Best:    6.97/  16.27 GFLOPS | Progress: (42/42) | 26.08 s Done.\n",
            "[Task 15/29]  Current/Best:    1.65/  15.30 GFLOPS | Progress: (42/42) | 29.17 s Done.\n",
            "[Task 16/29]  Current/Best:   10.21/  17.28 GFLOPS | Progress: (42/42) | 23.67 s Done.\n",
            "[Task 17/29]  Current/Best:    5.00/  17.37 GFLOPS | Progress: (42/42) | 28.78 s Done.\n",
            "[Task 18/29]  Current/Best:    2.88/  16.80 GFLOPS | Progress: (42/42) | 29.50 s Done.\n",
            "[Task 19/29]  Current/Best:    9.69/  16.11 GFLOPS | Progress: (16/42) | 13.15 s Done.\n",
            "[Task 19/29]  Current/Best:   17.40/  17.40 GFLOPS | Progress: (42/42) | 30.57 s Done.\n",
            "[Task 20/29]  Current/Best:    6.18/  17.20 GFLOPS | Progress: (42/42) | 34.05 s Done.\n",
            "[Task 21/29]  Current/Best:    2.62/  18.62 GFLOPS | Progress: (42/42) | 28.80 s Done.\n",
            "[Task 22/29]  Current/Best:    2.45/  18.10 GFLOPS | Progress: (42/42) | 40.67 s Done.\n",
            "[Task 23/29]  Current/Best:    2.59/  16.52 GFLOPS | Progress: (42/42) | 23.72 s Done.\n",
            "[Task 24/29]  Current/Best:    4.83/  16.88 GFLOPS | Progress: (42/42) | 37.55 s Done.\n",
            "[Task 25/29]  Current/Best:    2.99/  18.21 GFLOPS | Progress: (42/42) | 25.33 s Done.\n",
            "[Task 26/29]  Current/Best:    2.30/  16.33 GFLOPS | Progress: (42/42) | 39.07 s Done.\n",
            "[Task 27/29]  Current/Best:    2.73/  16.06 GFLOPS | Progress: (42/42) | 25.03 s Done.\n",
            "[Task 28/29]  Current/Best:    3.52/   5.87 GFLOPS | Progress: (42/42) | 24.06 s Done.\n",
            "[Task 29/29]  Current/Best:    6.36/   7.47 GFLOPS | Progress: (42/42) | 22.06 s Done.\n"
          ]
        }
      ],
      "source": [
        "tasks = extract_tasks_autotvm(mod_nchw, target, params)\n",
        "run_tuning_autotvm(tasks, **tuning_option)"
      ]
    },
    {
      "cell_type": "code",
      "execution_count": null,
      "id": "b5ca0a83",
      "metadata": {
        "id": "b5ca0a83",
        "colab": {
          "base_uri": "https://localhost:8080/"
        },
        "outputId": "64dd6596-bae6-4cd5-f510-181b7641d2ce"
      },
      "outputs": [
        {
          "output_type": "stream",
          "name": "stdout",
          "text": [
            "Evaluation of the network compiled in 'default' mode without auto tune:\n",
            "Compile...\n",
            "Evaluate inference time cost...\n",
            "Execution time summary:\n",
            " mean (ms)   median (ms)    max (ms)     min (ms)     std (ms)  \n",
            "  13.0259      10.1640      20.4289       8.4849       5.2794   \n",
            "               \n",
            "\n",
            "Evaluation of the network been tuned on kernel level:\n",
            "Compile...\n",
            "Evaluate inference time cost...\n",
            "Execution time summary:\n",
            " mean (ms)   median (ms)    max (ms)     min (ms)     std (ms)  \n",
            "  11.9442       8.9644      18.9474       7.9207       4.9703   \n",
            "               \n"
          ]
        }
      ],
      "source": [
        "evaluate_autotvm(\"input\", mod_nchw, (1, 128, 128, 3), 'statistics.log', target)"
      ]
    },
    {
      "cell_type": "markdown",
      "source": [
        "### Exporting the library using `export_library`"
      ],
      "metadata": {
        "id": "0WcSJGmu7sN8"
      },
      "id": "0WcSJGmu7sN8"
    },
    {
      "cell_type": "code",
      "execution_count": null,
      "id": "126ced3a",
      "metadata": {
        "id": "126ced3a"
      },
      "outputs": [],
      "source": [
        "from tvm import transform\n",
        "\n",
        "with autotvm.apply_history_best(log_file):\n",
        "  with transform.PassContext(opt_level=3):\n",
        "    lib = relay.build(mod_nchw, target=target, params=params)\n",
        "    lib.export_library('./face_detection_optimized.so')"
      ]
    },
    {
      "cell_type": "code",
      "source": [
        "loaded_lib = tvm.runtime.load_module('./face_detection_optimized.so')"
      ],
      "metadata": {
        "id": "brPKeHP_V9If"
      },
      "id": "brPKeHP_V9If",
      "execution_count": 36,
      "outputs": []
    },
    {
      "cell_type": "code",
      "source": [
        "module = graph_executor.GraphModule(loaded_lib[\"default\"](tvm.cpu()))\n",
        "module.set_input(\"input\", tvm.nd.array(image))\n",
        "\n",
        "module.run()\n",
        "\n",
        "tvm_output = module.get_output(0).numpy()\n",
        "\n",
        "print('output shape:', tvm_output.shape)"
      ],
      "metadata": {
        "id": "cN8JHYYlXn5M",
        "colab": {
          "base_uri": "https://localhost:8080/"
        },
        "outputId": "3ad38998-78e0-4d4c-c3e9-5142daa7ab49"
      },
      "id": "cN8JHYYlXn5M",
      "execution_count": null,
      "outputs": [
        {
          "output_type": "stream",
          "name": "stdout",
          "text": [
            "output shape: (1, 896, 16)\n"
          ]
        }
      ]
    },
    {
      "cell_type": "code",
      "source": [
        "!ls"
      ],
      "metadata": {
        "id": "DT9LYVWMX2-O",
        "colab": {
          "base_uri": "https://localhost:8080/"
        },
        "outputId": "109d8319-8b4a-4301-f243-2b71c727ac54"
      },
      "id": "DT9LYVWMX2-O",
      "execution_count": 38,
      "outputs": [
        {
          "output_type": "stream",
          "name": "stdout",
          "text": [
            "face_detection_base.tar      face_detection_optimized.so  face.jpeg\t  sample_data\n",
            "face_detection_front.tflite  face_detection.txt\t\t  parameters.npy  statistics.log\n"
          ]
        }
      ]
    },
    {
      "cell_type": "code",
      "source": [
        "!cp face_detection_optimized.so face_detection_optimized.so.zip"
      ],
      "metadata": {
        "id": "_1E5gx6eTou0"
      },
      "id": "_1E5gx6eTou0",
      "execution_count": 39,
      "outputs": []
    },
    {
      "cell_type": "code",
      "source": [],
      "metadata": {
        "id": "wtTG9YAYTwXZ"
      },
      "id": "wtTG9YAYTwXZ",
      "execution_count": null,
      "outputs": []
    }
  ],
  "metadata": {
    "colab": {
      "provenance": [],
      "gpuType": "T4"
    },
    "kernelspec": {
      "display_name": "Python 3",
      "name": "python3"
    },
    "language_info": {
      "codemirror_mode": {
        "name": "ipython",
        "version": 3
      },
      "file_extension": ".py",
      "mimetype": "text/x-python",
      "name": "python",
      "nbconvert_exporter": "python",
      "pygments_lexer": "ipython3",
      "version": "3.10.12"
    },
    "accelerator": "GPU"
  },
  "nbformat": 4,
  "nbformat_minor": 5
}